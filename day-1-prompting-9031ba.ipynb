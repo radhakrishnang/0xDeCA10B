{
 "cells": [
  {
   "cell_type": "markdown",
   "id": "7d81bf7f",
   "metadata": {
    "id": "jkxRSYjzA1oX",
    "papermill": {
     "duration": 0.014008,
     "end_time": "2025-03-31T21:55:28.563388",
     "exception": false,
     "start_time": "2025-03-31T21:55:28.549380",
     "status": "completed"
    },
    "tags": []
   },
   "source": [
    "##### Copyright 2025 Google LLC."
   ]
  },
  {
   "cell_type": "code",
   "execution_count": 1,
   "id": "9ba51163",
   "metadata": {
    "cellView": "form",
    "execution": {
     "iopub.execute_input": "2025-03-31T21:55:28.591743Z",
     "iopub.status.busy": "2025-03-31T21:55:28.591208Z",
     "iopub.status.idle": "2025-03-31T21:55:28.598525Z",
     "shell.execute_reply": "2025-03-31T21:55:28.597475Z"
    },
    "id": "5u5OZ2ShA3BA",
    "jupyter": {
     "source_hidden": true
    },
    "papermill": {
     "duration": 0.025076,
     "end_time": "2025-03-31T21:55:28.600953",
     "exception": false,
     "start_time": "2025-03-31T21:55:28.575877",
     "status": "completed"
    },
    "tags": []
   },
   "outputs": [],
   "source": [
    "# @title Licensed under the Apache License, Version 2.0 (the \"License\");\n",
    "# you may not use this file except in compliance with the License.\n",
    "# You may obtain a copy of the License at\n",
    "#\n",
    "# https://www.apache.org/licenses/LICENSE-2.0\n",
    "#\n",
    "# Unless required by applicable law or agreed to in writing, software\n",
    "# distributed under the License is distributed on an \"AS IS\" BASIS,\n",
    "# WITHOUT WARRANTIES OR CONDITIONS OF ANY KIND, either express or implied.\n",
    "# See the License for the specific language governing permissions and\n",
    "# limitations under the License."
   ]
  },
  {
   "cell_type": "markdown",
   "id": "1a992a08",
   "metadata": {
    "id": "csNPnkuCobmG",
    "papermill": {
     "duration": 0.012623,
     "end_time": "2025-03-31T21:55:28.626886",
     "exception": false,
     "start_time": "2025-03-31T21:55:28.614263",
     "status": "completed"
    },
    "tags": []
   },
   "source": [
    "# Day 1 - Prompting\n",
    "\n",
    "Welcome to the Kaggle 5-day Generative AI course!\n",
    "\n",
    "This notebook will show you how to get started with the Gemini API and walk you through some of the example prompts and techniques that you can also read about in the Prompting whitepaper. You don't need to read the whitepaper to use this notebook, but the papers will give you some theoretical context and background to complement this interactive notebook.\n",
    "\n",
    "\n",
    "## Before you begin\n",
    "\n",
    "In this notebook, you'll start exploring prompting using the Python SDK and AI Studio. For some inspiration, you might enjoy exploring some apps that have been built using the Gemini family of models. Here are a few that we like, and we think you will too.\n",
    "\n",
    "* [TextFX](https://textfx.withgoogle.com/) is a suite of AI-powered tools for rappers, made in collaboration with Lupe Fiasco,\n",
    "* [SQL Talk](https://sql-talk-r5gdynozbq-uc.a.run.app/) shows how you can talk directly to a database using the Gemini API,\n",
    "* [NotebookLM](https://notebooklm.google/) uses Gemini models to build your own personal AI research assistant.\n",
    "\n",
    "\n",
    "## For help\n",
    "\n",
    "**Common issues are covered in the [FAQ and troubleshooting guide](https://www.kaggle.com/code/markishere/day-0-troubleshooting-and-faqs).**\n",
    "\n",
    "## New for Gemini 2.0!\n",
    "\n",
    "This course material was first launched in November 2024. The AI and LLM space is moving incredibly fast, so we have made some updates to use the latest models and capabilities.\n",
    "\n",
    "* These codelabs have been updated to use the Gemini 2.0 family of models.\n",
    "* The Python SDK has been updated from `google-generativeai` to the new, unified [`google-genai`](https://pypi.org/project/google-genai) SDK.\n",
    "  * This new SDK works with both the developer Gemini API as well as Google Cloud Vertex AI, and switching is [as simple as changing some fields](https://pypi.org/project/google-genai/#:~:text=.Client%28%29-,API%20Selection,-By%20default%2C%20the).\n",
    "* New model capabilities have been added to the relevant codelabs, such as \"thinking mode\" in this lab.\n",
    "* Day 1 includes a new [Evaluation codelab](https://www.kaggle.com/code/markishere/day-1-evaluation-and-structured-output)."
   ]
  },
  {
   "attachments": {
    "d8299597-f771-4195-ac94-1d6f658ef2bd.png": {
     "image/png": "[encoded data removed]"
    },
    "ed25e346-2e15-4ab0-bc22-503eb1845e66.png": {
     "image/png": "[encoded data removed]"
    }
   },
   "cell_type": "markdown",
   "id": "952c1c43",
   "metadata": {
    "id": "f00ea7c99e44",
    "papermill": {
     "duration": 0.012539,
     "end_time": "2025-03-31T21:55:28.652787",
     "exception": false,
     "start_time": "2025-03-31T21:55:28.640248",
     "status": "completed"
    },
    "tags": []
   },
   "source": [
    "## Get started with Kaggle notebooks\n",
    "\n",
    "If this is your first time using a Kaggle notebook, welcome! You can read about how to use Kaggle notebooks [in the docs](https://www.kaggle.com/docs/notebooks).\n",
    "\n",
    "First, you will need to phone verify your account at kaggle.com/settings.\n",
    "\n",
    "![](https://storage.googleapis.com/kaggle-media/Images/5dgai_0.png)"
   ]
  },
  {
   "cell_type": "markdown",
   "id": "ebb648ee",
   "metadata": {
    "papermill": {
     "duration": 0.013297,
     "end_time": "2025-03-31T21:55:28.679147",
     "exception": false,
     "start_time": "2025-03-31T21:55:28.665850",
     "status": "completed"
    },
    "tags": []
   },
   "source": [
    "To run this notebook, as well as the others in this course, you will need to make a copy, or fork, the notebook. Look for the `Copy and Edit` button in the top-right, and **click it** to make an editable, private copy of the notebook. It should look like this one:\n",
    "\n",
    "![Copy and Edit button](https://storage.googleapis.com/kaggle-media/Images/5gdai_sc_1.png)\n",
    "\n",
    "Your copy will now have a ▶️ **Run** button next to each code cell that you can press to execute that cell. These notebooks are expected to be run in order from top-to-bottom, but you are encouraged to add new cells, run your own code and explore. If you get stuck, you can try the `Factory reset` option in the `Run` menu, or head back to the original notebook and make a fresh copy.\n",
    "\n",
    "![Run cell button](https://storage.googleapis.com/kaggle-media/Images/5gdai_sc_2.png)\n",
    "\n",
    "### Problems?\n",
    "\n",
    "If you have any problems, head over to the [Kaggle Discord](https://discord.com/invite/kaggle), find the [`#5dgai-q-and-a` channel](https://discord.com/channels/1101210829807956100/1303438695143178251) and ask for help."
   ]
  },
  {
   "cell_type": "markdown",
   "id": "b54e39b8",
   "metadata": {
    "id": "ExkOXcPxtTb5",
    "papermill": {
     "duration": 0.013712,
     "end_time": "2025-03-31T21:55:28.707764",
     "exception": false,
     "start_time": "2025-03-31T21:55:28.694052",
     "status": "completed"
    },
    "tags": []
   },
   "source": [
    "## Get started with the Gemini API\n",
    "\n",
    "All of the exercises in this notebook will use the [Gemini API](https://ai.google.dev/gemini-api/) by way of the [Python SDK](https://pypi.org/project/google-genai/). Each of these prompts can be accessed directly in [Google AI Studio](https://aistudio.google.com/) too, so if you would rather use a web interface and skip the code for this activity, look for the <img src=\"https://ai.google.dev/site-assets/images/marketing/home/icon-ais.png\" style=\"height: 24px\" height=24/> AI Studio link on each prompt."
   ]
  },
  {
   "cell_type": "markdown",
   "id": "6fc595ca",
   "metadata": {
    "papermill": {
     "duration": 0.012381,
     "end_time": "2025-03-31T21:55:28.732810",
     "exception": false,
     "start_time": "2025-03-31T21:55:28.720429",
     "status": "completed"
    },
    "tags": []
   },
   "source": [
    "Next, you will need to add your API key to your Kaggle Notebook as a Kaggle User Secret.\n",
    "\n",
    "![](https://storage.googleapis.com/kaggle-media/Images/5dgai_1.png)\n",
    "![](https://storage.googleapis.com/kaggle-media/Images/5dgai_2.png)\n",
    "![](https://storage.googleapis.com/kaggle-media/Images/5dgai_3.png)\n",
    "![](https://storage.googleapis.com/kaggle-media/Images/5dgai_4.png)"
   ]
  },
  {
   "cell_type": "markdown",
   "id": "9cf3a9ed",
   "metadata": {
    "id": "UAjUV3BsvFXQ",
    "papermill": {
     "duration": 0.012307,
     "end_time": "2025-03-31T21:55:28.757810",
     "exception": false,
     "start_time": "2025-03-31T21:55:28.745503",
     "status": "completed"
    },
    "tags": []
   },
   "source": [
    "### Install the SDK"
   ]
  },
  {
   "cell_type": "code",
   "execution_count": 2,
   "id": "e9ab8056",
   "metadata": {
    "execution": {
     "iopub.execute_input": "2025-03-31T21:55:28.785468Z",
     "iopub.status.busy": "2025-03-31T21:55:28.785052Z",
     "iopub.status.idle": "2025-03-31T21:55:49.291626Z",
     "shell.execute_reply": "2025-03-31T21:55:49.289987Z"
    },
    "id": "NzwzJFU9LqkJ",
    "papermill": {
     "duration": 20.524121,
     "end_time": "2025-03-31T21:55:49.294924",
     "exception": false,
     "start_time": "2025-03-31T21:55:28.770803",
     "status": "completed"
    },
    "tags": []
   },
   "outputs": [],
   "source": [
    "!pip uninstall -qqy jupyterlab  # Remove unused packages from Kaggle's base image that conflict\n",
    "!pip install -U -q \"google-genai==1.7.0\""
   ]
  },
  {
   "cell_type": "markdown",
   "id": "871ad58e",
   "metadata": {
    "papermill": {
     "duration": 0.012464,
     "end_time": "2025-03-31T21:55:49.321352",
     "exception": false,
     "start_time": "2025-03-31T21:55:49.308888",
     "status": "completed"
    },
    "tags": []
   },
   "source": [
    "Import the SDK and some helpers for rendering the output."
   ]
  },
  {
   "cell_type": "code",
   "execution_count": 3,
   "id": "c38af94b",
   "metadata": {
    "execution": {
     "iopub.execute_input": "2025-03-31T21:55:49.349623Z",
     "iopub.status.busy": "2025-03-31T21:55:49.349156Z",
     "iopub.status.idle": "2025-03-31T21:55:50.853497Z",
     "shell.execute_reply": "2025-03-31T21:55:50.851986Z"
    },
    "id": "5DwxYIRavMST",
    "papermill": {
     "duration": 1.521893,
     "end_time": "2025-03-31T21:55:50.856575",
     "exception": false,
     "start_time": "2025-03-31T21:55:49.334682",
     "status": "completed"
    },
    "tags": []
   },
   "outputs": [],
   "source": [
    "from google import genai\n",
    "from google.genai import types\n",
    "\n",
    "from IPython.display import HTML, Markdown, display"
   ]
  },
  {
   "cell_type": "markdown",
   "id": "cc63772e",
   "metadata": {
    "papermill": {
     "duration": 0.013273,
     "end_time": "2025-03-31T21:55:50.882943",
     "exception": false,
     "start_time": "2025-03-31T21:55:50.869670",
     "status": "completed"
    },
    "tags": []
   },
   "source": [
    "Set up a retry helper. This allows you to \"Run all\" without worrying about per-minute quota."
   ]
  },
  {
   "cell_type": "code",
   "execution_count": 4,
   "id": "c286ea55",
   "metadata": {
    "execution": {
     "iopub.execute_input": "2025-03-31T21:55:50.911777Z",
     "iopub.status.busy": "2025-03-31T21:55:50.911065Z",
     "iopub.status.idle": "2025-03-31T21:55:51.103103Z",
     "shell.execute_reply": "2025-03-31T21:55:51.101955Z"
    },
    "papermill": {
     "duration": 0.209825,
     "end_time": "2025-03-31T21:55:51.106179",
     "exception": false,
     "start_time": "2025-03-31T21:55:50.896354",
     "status": "completed"
    },
    "tags": []
   },
   "outputs": [],
   "source": [
    "from google.api_core import retry\n",
    "\n",
    "\n",
    "is_retriable = lambda e: (isinstance(e, genai.errors.APIError) and e.code in {429, 503})\n",
    "\n",
    "genai.models.Models.generate_content = retry.Retry(\n",
    "    predicate=is_retriable)(genai.models.Models.generate_content)"
   ]
  },
  {
   "cell_type": "markdown",
   "id": "777d601e",
   "metadata": {
    "id": "DNEt2BCOvOJ1",
    "papermill": {
     "duration": 0.012988,
     "end_time": "2025-03-31T21:55:51.132397",
     "exception": false,
     "start_time": "2025-03-31T21:55:51.119409",
     "status": "completed"
    },
    "tags": []
   },
   "source": [
    "### Set up your API key\n",
    "\n",
    "To run the following cell, your API key must be stored it in a [Kaggle secret](https://www.kaggle.com/discussions/product-feedback/114053) named `GOOGLE_API_KEY`.\n",
    "\n",
    "If you don't already have an API key, you can grab one from [AI Studio](https://aistudio.google.com/app/apikey). You can find [detailed instructions in the docs](https://ai.google.dev/gemini-api/docs/api-key).\n",
    "\n",
    "To make the key available through Kaggle secrets, choose `Secrets` from the `Add-ons` menu and follow the instructions to add your key or enable it for this notebook."
   ]
  },
  {
   "cell_type": "code",
   "execution_count": 5,
   "id": "05a61f25",
   "metadata": {
    "execution": {
     "iopub.execute_input": "2025-03-31T21:55:51.160503Z",
     "iopub.status.busy": "2025-03-31T21:55:51.159935Z",
     "iopub.status.idle": "2025-03-31T21:55:51.328074Z",
     "shell.execute_reply": "2025-03-31T21:55:51.326885Z"
    },
    "id": "SHl0bkPCvayd",
    "papermill": {
     "duration": 0.185484,
     "end_time": "2025-03-31T21:55:51.330930",
     "exception": false,
     "start_time": "2025-03-31T21:55:51.145446",
     "status": "completed"
    },
    "tags": []
   },
   "outputs": [],
   "source": [
    "from kaggle_secrets import UserSecretsClient\n",
    "\n",
    "GOOGLE_API_KEY = UserSecretsClient().get_secret(\"GOOGLE_API_KEY\")"
   ]
  },
  {
   "attachments": {
    "d2be9aab-2527-48af-b6cf-1f06cdd7c3a7.png": {
     "image/png": "[encoded data removed]"
    }
   },
   "cell_type": "markdown",
   "id": "410fc6c0",
   "metadata": {
    "id": "4e720472fd86",
    "papermill": {
     "duration": 0.012691,
     "end_time": "2025-03-31T21:55:51.357523",
     "exception": false,
     "start_time": "2025-03-31T21:55:51.344832",
     "status": "completed"
    },
    "tags": []
   },
   "source": [
    "If you received an error response along the lines of `No user secrets exist for kernel id ...`, then you need to add your API key via `Add-ons`, `Secrets` **and** enable it.\n",
    "\n",
    "![Screenshot of the checkbox to enable GOOGLE_API_KEY secret](https://storage.googleapis.com/kaggle-media/Images/5gdai_sc_3.png)"
   ]
  },
  {
   "cell_type": "markdown",
   "id": "ce8947c9",
   "metadata": {
    "id": "H_YXCYIKvyZJ",
    "papermill": {
     "duration": 0.013041,
     "end_time": "2025-03-31T21:55:51.384031",
     "exception": false,
     "start_time": "2025-03-31T21:55:51.370990",
     "status": "completed"
    },
    "tags": []
   },
   "source": [
    "### Run your first prompt\n",
    "\n",
    "In this step, you will test that your API key is set up correctly by making a request.\n",
    "\n",
    "The Python SDK uses a [`Client` object](https://googleapis.github.io/python-genai/genai.html#genai.client.Client) to make requests to the API. The client lets you control which back-end to use (between the Gemini API and Vertex AI) and handles authentication (the API key).\n",
    "\n",
    "The `gemini-2.0-flash` model has been selected here.\n",
    "\n",
    "**Note**: If you see a `TransportError` on this step, you may need to **🔁 Factory reset** the notebook one time."
   ]
  },
  {
   "cell_type": "code",
   "execution_count": 6,
   "id": "69ba1719",
   "metadata": {
    "execution": {
     "iopub.execute_input": "2025-03-31T21:55:51.412903Z",
     "iopub.status.busy": "2025-03-31T21:55:51.412472Z",
     "iopub.status.idle": "2025-03-31T21:55:53.670875Z",
     "shell.execute_reply": "2025-03-31T21:55:53.669260Z"
    },
    "id": "BV1o0PmcvyJF",
    "papermill": {
     "duration": 2.275685,
     "end_time": "2025-03-31T21:55:53.673488",
     "exception": false,
     "start_time": "2025-03-31T21:55:51.397803",
     "status": "completed"
    },
    "tags": []
   },
   "outputs": [
    {
     "name": "stdout",
     "output_type": "stream",
     "text": [
      "Okay, imagine you have a really, really smart dog. But instead of teaching it to fetch a ball, you teach it to solve puzzles, write stories, or even draw pictures!\n",
      "\n",
      "That's kind of what AI is.\n",
      "\n",
      "**AI stands for Artificial Intelligence.**\n",
      "\n",
      "*   **Artificial** means it's not real, like a robot. It's made by people.\n",
      "*   **Intelligence** means being smart, like knowing things and solving problems.\n",
      "\n",
      "So, AI is like a **smart computer program** that can:\n",
      "\n",
      "*   **Learn:** It can learn from things it sees and hears, just like you learn at school!\n",
      "*   **Think:** It can use what it learns to figure things out and solve problems.\n",
      "*   **Do things:** It can do things like play games, write stories, and even drive cars (some day!).\n",
      "\n",
      "Think of your tablet or phone. Sometimes it suggests words when you're typing. That's a little bit of AI! It's learned what words you usually use and tries to help you.\n",
      "\n",
      "**Important thing to remember:** AI isn't actually alive like you or me. It doesn't have feelings or think for itself in the same way. It's just following the instructions people gave it.\n",
      "\n",
      "It's a super cool tool that can help us do lots of things! But it's still learning, just like you are!\n",
      "\n"
     ]
    }
   ],
   "source": [
    "client = genai.Client(api_key=GOOGLE_API_KEY)\n",
    "\n",
    "response = client.models.generate_content(\n",
    "    model=\"gemini-2.0-flash\",\n",
    "    contents=\"Explain AI to me like I'm a kid.\")\n",
    "\n",
    "print(response.text)"
   ]
  },
  {
   "cell_type": "markdown",
   "id": "b59be7c2",
   "metadata": {
    "id": "f60ed9d8ae41",
    "papermill": {
     "duration": 0.01244,
     "end_time": "2025-03-31T21:55:53.700213",
     "exception": false,
     "start_time": "2025-03-31T21:55:53.687773",
     "status": "completed"
    },
    "tags": []
   },
   "source": [
    "The response often comes back in markdown format, which you can render directly in this notebook."
   ]
  },
  {
   "cell_type": "code",
   "execution_count": 7,
   "id": "c15db4fb",
   "metadata": {
    "execution": {
     "iopub.execute_input": "2025-03-31T21:55:53.727792Z",
     "iopub.status.busy": "2025-03-31T21:55:53.727326Z",
     "iopub.status.idle": "2025-03-31T21:55:53.736504Z",
     "shell.execute_reply": "2025-03-31T21:55:53.735341Z"
    },
    "id": "c933e5e460a5",
    "papermill": {
     "duration": 0.026614,
     "end_time": "2025-03-31T21:55:53.739272",
     "exception": false,
     "start_time": "2025-03-31T21:55:53.712658",
     "status": "completed"
    },
    "tags": []
   },
   "outputs": [
    {
     "data": {
      "text/markdown": [
       "Okay, imagine you have a really, really smart dog. But instead of teaching it to fetch a ball, you teach it to solve puzzles, write stories, or even draw pictures!\n",
       "\n",
       "That's kind of what AI is.\n",
       "\n",
       "**AI stands for Artificial Intelligence.**\n",
       "\n",
       "*   **Artificial** means it's not real, like a robot. It's made by people.\n",
       "*   **Intelligence** means being smart, like knowing things and solving problems.\n",
       "\n",
       "So, AI is like a **smart computer program** that can:\n",
       "\n",
       "*   **Learn:** It can learn from things it sees and hears, just like you learn at school!\n",
       "*   **Think:** It can use what it learns to figure things out and solve problems.\n",
       "*   **Do things:** It can do things like play games, write stories, and even drive cars (some day!).\n",
       "\n",
       "Think of your tablet or phone. Sometimes it suggests words when you're typing. That's a little bit of AI! It's learned what words you usually use and tries to help you.\n",
       "\n",
       "**Important thing to remember:** AI isn't actually alive like you or me. It doesn't have feelings or think for itself in the same way. It's just following the instructions people gave it.\n",
       "\n",
       "It's a super cool tool that can help us do lots of things! But it's still learning, just like you are!\n"
      ],
      "text/plain": [
       "<IPython.core.display.Markdown object>"
      ]
     },
     "execution_count": 7,
     "metadata": {},
     "output_type": "execute_result"
    }
   ],
   "source": [
    "Markdown(response.text)"
   ]
  },
  {
   "cell_type": "markdown",
   "id": "e7f8204e",
   "metadata": {
    "id": "byx0pT9ZMW2Q",
    "papermill": {
     "duration": 0.012761,
     "end_time": "2025-03-31T21:55:53.765508",
     "exception": false,
     "start_time": "2025-03-31T21:55:53.752747",
     "status": "completed"
    },
    "tags": []
   },
   "source": [
    "### Start a chat\n",
    "\n",
    "The previous example uses a single-turn, text-in/text-out structure, but you can also set up a multi-turn chat structure too."
   ]
  },
  {
   "cell_type": "code",
   "execution_count": 8,
   "id": "8ecaff32",
   "metadata": {
    "execution": {
     "iopub.execute_input": "2025-03-31T21:55:53.795862Z",
     "iopub.status.busy": "2025-03-31T21:55:53.794270Z",
     "iopub.status.idle": "2025-03-31T21:55:54.218054Z",
     "shell.execute_reply": "2025-03-31T21:55:54.216507Z"
    },
    "id": "lV_S5ZL5MidD",
    "papermill": {
     "duration": 0.440851,
     "end_time": "2025-03-31T21:55:54.220712",
     "exception": false,
     "start_time": "2025-03-31T21:55:53.779861",
     "status": "completed"
    },
    "tags": []
   },
   "outputs": [
    {
     "name": "stdout",
     "output_type": "stream",
     "text": [
      "Hello Zlork! It's nice to meet you. How can I help you today?\n",
      "\n"
     ]
    }
   ],
   "source": [
    "chat = client.chats.create(model='gemini-2.0-flash', history=[])\n",
    "response = chat.send_message('Hello! My name is Zlork.')\n",
    "print(response.text)"
   ]
  },
  {
   "cell_type": "code",
   "execution_count": 9,
   "id": "694d9fab",
   "metadata": {
    "execution": {
     "iopub.execute_input": "2025-03-31T21:55:54.249194Z",
     "iopub.status.busy": "2025-03-31T21:55:54.248741Z",
     "iopub.status.idle": "2025-03-31T21:57:08.629951Z",
     "shell.execute_reply": "2025-03-31T21:57:08.628457Z"
    },
    "id": "7b0372c3c64a",
    "papermill": {
     "duration": 74.41156,
     "end_time": "2025-03-31T21:57:08.645190",
     "exception": false,
     "start_time": "2025-03-31T21:55:54.233630",
     "status": "completed"
    },
    "tags": []
   },
   "outputs": [
    {
     "name": "stdout",
     "output_type": "stream",
     "text": [
      "Okay, here's a cool fact about dinosaurs:\n",
      "\n",
      "**Some dinosaurs swallowed stones, called gastroliths, to help them digest their food!**\n",
      "\n",
      "Think of it like this: many dinosaurs didn't have teeth that were great at grinding up tough plant matter. So, they would swallow stones that would stay in their gizzard (a muscular part of their stomach). As the dinosaur moved, the stones would grind against the food, breaking it down and making it easier to digest. We find these polished stones alongside dinosaur skeletons sometimes, giving us clues about their diet and digestion.\n",
      "\n"
     ]
    }
   ],
   "source": [
    "response = chat.send_message('Can you tell me something interesting about dinosaurs?')\n",
    "print(response.text)"
   ]
  },
  {
   "cell_type": "markdown",
   "id": "a3d07045",
   "metadata": {
    "papermill": {
     "duration": 0.0126,
     "end_time": "2025-03-31T21:57:08.670527",
     "exception": false,
     "start_time": "2025-03-31T21:57:08.657927",
     "status": "completed"
    },
    "tags": []
   },
   "source": [
    "While you have the `chat` object alive, the conversation state\n",
    "persists. Confirm that by asking if it knows the user's name."
   ]
  },
  {
   "cell_type": "code",
   "execution_count": 10,
   "id": "461ad6eb",
   "metadata": {
    "execution": {
     "iopub.execute_input": "2025-03-31T21:57:08.698758Z",
     "iopub.status.busy": "2025-03-31T21:57:08.698285Z",
     "iopub.status.idle": "2025-03-31T21:57:09.114497Z",
     "shell.execute_reply": "2025-03-31T21:57:09.113006Z"
    },
    "id": "d3f9591392a7",
    "papermill": {
     "duration": 0.433879,
     "end_time": "2025-03-31T21:57:09.117340",
     "exception": false,
     "start_time": "2025-03-31T21:57:08.683461",
     "status": "completed"
    },
    "tags": []
   },
   "outputs": [
    {
     "name": "stdout",
     "output_type": "stream",
     "text": [
      "Yes, Zlork.\n",
      "\n"
     ]
    }
   ],
   "source": [
    "response = chat.send_message('Do you remember what my name is?')\n",
    "print(response.text)"
   ]
  },
  {
   "cell_type": "markdown",
   "id": "47f7c980",
   "metadata": {
    "id": "2KAjpr1200sW",
    "papermill": {
     "duration": 0.013211,
     "end_time": "2025-03-31T21:57:09.144659",
     "exception": false,
     "start_time": "2025-03-31T21:57:09.131448",
     "status": "completed"
    },
    "tags": []
   },
   "source": [
    "### Choose a model\n",
    "\n",
    "The Gemini API provides access to a number of models from the Gemini model family. Read about the available models and their capabilities on the [model overview page](https://ai.google.dev/gemini-api/docs/models/gemini).\n",
    "\n",
    "In this step you'll use the API to list all of the available models."
   ]
  },
  {
   "cell_type": "code",
   "execution_count": 11,
   "id": "5e89e40a",
   "metadata": {
    "execution": {
     "iopub.execute_input": "2025-03-31T21:57:09.174840Z",
     "iopub.status.busy": "2025-03-31T21:57:09.173484Z",
     "iopub.status.idle": "2025-03-31T21:57:09.234871Z",
     "shell.execute_reply": "2025-03-31T21:57:09.233314Z"
    },
    "id": "uUUZa2uq2jDm",
    "papermill": {
     "duration": 0.079474,
     "end_time": "2025-03-31T21:57:09.237782",
     "exception": false,
     "start_time": "2025-03-31T21:57:09.158308",
     "status": "completed"
    },
    "tags": []
   },
   "outputs": [
    {
     "name": "stdout",
     "output_type": "stream",
     "text": [
      "models/chat-bison-001\n",
      "models/text-bison-001\n",
      "models/embedding-gecko-001\n",
      "models/gemini-1.0-pro-vision-latest\n",
      "models/gemini-pro-vision\n",
      "models/gemini-1.5-pro-latest\n",
      "models/gemini-1.5-pro-001\n",
      "models/gemini-1.5-pro-002\n",
      "models/gemini-1.5-pro\n",
      "models/gemini-1.5-flash-latest\n",
      "models/gemini-1.5-flash-001\n",
      "models/gemini-1.5-flash-001-tuning\n",
      "models/gemini-1.5-flash\n",
      "models/gemini-1.5-flash-002\n",
      "models/gemini-1.5-flash-8b\n",
      "models/gemini-1.5-flash-8b-001\n",
      "models/gemini-1.5-flash-8b-latest\n",
      "models/gemini-1.5-flash-8b-exp-0827\n",
      "models/gemini-1.5-flash-8b-exp-0924\n",
      "models/gemini-2.5-pro-exp-03-25\n",
      "models/gemini-2.0-flash-exp\n",
      "models/gemini-2.0-flash\n",
      "models/gemini-2.0-flash-001\n",
      "models/gemini-2.0-flash-exp-image-generation\n",
      "models/gemini-2.0-flash-lite-001\n",
      "models/gemini-2.0-flash-lite\n",
      "models/gemini-2.0-flash-lite-preview-02-05\n",
      "models/gemini-2.0-flash-lite-preview\n",
      "models/gemini-2.0-pro-exp\n",
      "models/gemini-2.0-pro-exp-02-05\n",
      "models/gemini-exp-1206\n",
      "models/gemini-2.0-flash-thinking-exp-01-21\n",
      "models/gemini-2.0-flash-thinking-exp\n",
      "models/gemini-2.0-flash-thinking-exp-1219\n",
      "models/learnlm-1.5-pro-experimental\n",
      "models/gemma-3-27b-it\n",
      "models/embedding-001\n",
      "models/text-embedding-004\n",
      "models/gemini-embedding-exp-03-07\n",
      "models/gemini-embedding-exp\n",
      "models/aqa\n",
      "models/imagen-3.0-generate-002\n"
     ]
    }
   ],
   "source": [
    "for model in client.models.list():\n",
    "  print(model.name)"
   ]
  },
  {
   "cell_type": "markdown",
   "id": "d1a52bcd",
   "metadata": {
    "id": "rN49kSI54R1v",
    "papermill": {
     "duration": 0.013556,
     "end_time": "2025-03-31T21:57:09.265224",
     "exception": false,
     "start_time": "2025-03-31T21:57:09.251668",
     "status": "completed"
    },
    "tags": []
   },
   "source": [
    "The [`models.list`](https://ai.google.dev/api/models#method:-models.list) response also returns additional information about the model's capabilities, like the token limits and supported parameters."
   ]
  },
  {
   "cell_type": "code",
   "execution_count": 12,
   "id": "d156a315",
   "metadata": {
    "execution": {
     "iopub.execute_input": "2025-03-31T21:57:09.295788Z",
     "iopub.status.busy": "2025-03-31T21:57:09.295351Z",
     "iopub.status.idle": "2025-03-31T21:57:09.407150Z",
     "shell.execute_reply": "2025-03-31T21:57:09.405678Z"
    },
    "id": "k7JJ1K6j4Rl8",
    "papermill": {
     "duration": 0.130497,
     "end_time": "2025-03-31T21:57:09.409854",
     "exception": false,
     "start_time": "2025-03-31T21:57:09.279357",
     "status": "completed"
    },
    "tags": []
   },
   "outputs": [
    {
     "name": "stdout",
     "output_type": "stream",
     "text": [
      "{'description': 'Gemini 2.0 Flash',\n",
      " 'display_name': 'Gemini 2.0 Flash',\n",
      " 'input_token_limit': 1048576,\n",
      " 'name': 'models/gemini-2.0-flash',\n",
      " 'output_token_limit': 8192,\n",
      " 'supported_actions': ['generateContent', 'countTokens'],\n",
      " 'tuned_model_info': {},\n",
      " 'version': '2.0'}\n"
     ]
    }
   ],
   "source": [
    "from pprint import pprint\n",
    "\n",
    "for model in client.models.list():\n",
    "  if model.name == 'models/gemini-2.0-flash':\n",
    "    pprint(model.to_json_dict())\n",
    "    break"
   ]
  },
  {
   "cell_type": "markdown",
   "id": "26a68648",
   "metadata": {
    "id": "5rU_UBlZdooM",
    "papermill": {
     "duration": 0.013428,
     "end_time": "2025-03-31T21:57:09.437779",
     "exception": false,
     "start_time": "2025-03-31T21:57:09.424351",
     "status": "completed"
    },
    "tags": []
   },
   "source": [
    "## Explore generation parameters\n",
    "\n"
   ]
  },
  {
   "cell_type": "markdown",
   "id": "1aa1419a",
   "metadata": {
    "id": "G7NfEizeipbW",
    "papermill": {
     "duration": 0.01344,
     "end_time": "2025-03-31T21:57:09.465005",
     "exception": false,
     "start_time": "2025-03-31T21:57:09.451565",
     "status": "completed"
    },
    "tags": []
   },
   "source": [
    "### Output length\n",
    "\n",
    "When generating text with an LLM, the output length affects cost and performance. Generating more tokens increases computation, leading to higher energy consumption, latency, and cost.\n",
    "\n",
    "To stop the model from generating tokens past a limit, you can specify the `max_output_tokens` parameter when using the Gemini API. Specifying this parameter does not influence the generation of the output tokens, so the output will not become more stylistically or textually succinct, but it will stop generating tokens once the specified length is reached. Prompt engineering may be required to generate a more complete output for your given limit."
   ]
  },
  {
   "cell_type": "code",
   "execution_count": 13,
   "id": "3e9cea39",
   "metadata": {
    "execution": {
     "iopub.execute_input": "2025-03-31T21:57:09.494004Z",
     "iopub.status.busy": "2025-03-31T21:57:09.493598Z",
     "iopub.status.idle": "2025-03-31T21:57:11.022778Z",
     "shell.execute_reply": "2025-03-31T21:57:11.021363Z"
    },
    "id": "qVf23JsIi9ma",
    "papermill": {
     "duration": 1.546927,
     "end_time": "2025-03-31T21:57:11.025619",
     "exception": false,
     "start_time": "2025-03-31T21:57:09.478692",
     "status": "completed"
    },
    "tags": []
   },
   "outputs": [
    {
     "name": "stdout",
     "output_type": "stream",
     "text": [
      "## The Humble Olive: A Cornerstone of Modern Society\n",
      "\n",
      "The olive, that small, unassuming fruit, holds a significance in modern society that extends far beyond its culinary applications. From its ancient roots in the Mediterranean to its ubiquitous presence on supermarket shelves across the globe, the olive and its derivatives have woven themselves into the fabric of our diet, economy, culture, and even our understanding of health. Understanding the importance of the olive necessitates exploring its multifaceted contributions to modern society, highlighting its role in food production, economic stability, health and wellness, and cultural identity.\n",
      "\n",
      "Perhaps the most apparent contribution of the olive lies in its role as a food staple. Olives, both whole and processed into oil, have become indispensable ingredients in modern cuisine. The sheer diversity of olive varieties, each boasting unique flavor profiles and textures, allows for a wide array of culinary applications. Green olives, often brined and stuffed with pimentos or garlic, add a salty, tangy bite to salads, pizzas, and tapas. Black\n"
     ]
    }
   ],
   "source": [
    "from google.genai import types\n",
    "\n",
    "short_config = types.GenerateContentConfig(max_output_tokens=200)\n",
    "\n",
    "response = client.models.generate_content(\n",
    "    model='gemini-2.0-flash',\n",
    "    config=short_config,\n",
    "    contents='Write a 1000 word essay on the importance of olives in modern society.')\n",
    "\n",
    "print(response.text)"
   ]
  },
  {
   "cell_type": "code",
   "execution_count": 14,
   "id": "38ddd185",
   "metadata": {
    "execution": {
     "iopub.execute_input": "2025-03-31T21:57:11.057824Z",
     "iopub.status.busy": "2025-03-31T21:57:11.057344Z",
     "iopub.status.idle": "2025-03-31T21:57:11.880311Z",
     "shell.execute_reply": "2025-03-31T21:57:11.879190Z"
    },
    "id": "W-3kR2F5kdMR",
    "papermill": {
     "duration": 0.843084,
     "end_time": "2025-03-31T21:57:11.882813",
     "exception": false,
     "start_time": "2025-03-31T21:57:11.039729",
     "status": "completed"
    },
    "tags": []
   },
   "outputs": [
    {
     "name": "stdout",
     "output_type": "stream",
     "text": [
      "From ancient groves to tables spread,\n",
      "A tiny fruit, a potent thread.\n",
      "In oils that gleam, and tapenade,\n",
      "A flavor bold, a taste parade.\n",
      "\n",
      "On pizzas strewn, in salads bright,\n",
      "A savory star, a guiding light.\n",
      "From Mediterranean shores so grand,\n",
      "An olive's touch, across the land.\n",
      "\n"
     ]
    }
   ],
   "source": [
    "response = client.models.generate_content(\n",
    "    model='gemini-2.0-flash',\n",
    "    config=short_config,\n",
    "    contents='Write a short poem on the importance of olives in modern society.')\n",
    "\n",
    "print(response.text)"
   ]
  },
  {
   "cell_type": "markdown",
   "id": "8404f95c",
   "metadata": {
    "id": "3ZhDSLB6lqqB",
    "papermill": {
     "duration": 0.013345,
     "end_time": "2025-03-31T21:57:11.910020",
     "exception": false,
     "start_time": "2025-03-31T21:57:11.896675",
     "status": "completed"
    },
    "tags": []
   },
   "source": [
    "Explore with your own prompts. Try a prompt with a restrictive output limit and then adjust the prompt to work within that limit."
   ]
  },
  {
   "cell_type": "markdown",
   "id": "b5d8a75b",
   "metadata": {
    "id": "alx-WaAvir_9",
    "papermill": {
     "duration": 0.013286,
     "end_time": "2025-03-31T21:57:11.937037",
     "exception": false,
     "start_time": "2025-03-31T21:57:11.923751",
     "status": "completed"
    },
    "tags": []
   },
   "source": [
    "### Temperature\n",
    "\n",
    "Temperature controls the degree of randomness in token selection. Higher temperatures result in a higher number of candidate tokens from which the next output token is selected, and can produce more diverse results, while lower temperatures have the opposite effect, such that a temperature of 0 results in greedy decoding, selecting the most probable token at each step.\n",
    "\n",
    "Temperature doesn't provide any guarantees of randomness, but it can be used to \"nudge\" the output somewhat."
   ]
  },
  {
   "cell_type": "code",
   "execution_count": 15,
   "id": "78f7dde4",
   "metadata": {
    "execution": {
     "iopub.execute_input": "2025-03-31T21:57:11.969063Z",
     "iopub.status.busy": "2025-03-31T21:57:11.968664Z",
     "iopub.status.idle": "2025-03-31T21:57:13.930491Z",
     "shell.execute_reply": "2025-03-31T21:57:13.929175Z"
    },
    "id": "SHraGMzqnZqt",
    "papermill": {
     "duration": 1.980297,
     "end_time": "2025-03-31T21:57:13.932945",
     "exception": false,
     "start_time": "2025-03-31T21:57:11.952648",
     "status": "completed"
    },
    "tags": []
   },
   "outputs": [
    {
     "name": "stdout",
     "output_type": "stream",
     "text": [
      "Teal\n",
      " -------------------------\n",
      "Azure.\n",
      " -------------------------\n",
      "Purple.\n",
      " -------------------------\n",
      "Magenta.\n",
      " -------------------------\n",
      "Purple\n",
      " -------------------------\n"
     ]
    }
   ],
   "source": [
    "high_temp_config = types.GenerateContentConfig(temperature=2.0)\n",
    "\n",
    "\n",
    "for _ in range(5):\n",
    "  response = client.models.generate_content(\n",
    "      model='gemini-2.0-flash',\n",
    "      config=high_temp_config,\n",
    "      contents='Pick a random colour... (respond in a single word)')\n",
    "\n",
    "  if response.text:\n",
    "    print(response.text, '-' * 25)"
   ]
  },
  {
   "cell_type": "markdown",
   "id": "36c6ed71",
   "metadata": {
    "id": "z3J4pCTuof7e",
    "papermill": {
     "duration": 0.015749,
     "end_time": "2025-03-31T21:57:13.962872",
     "exception": false,
     "start_time": "2025-03-31T21:57:13.947123",
     "status": "completed"
    },
    "tags": []
   },
   "source": [
    "Now try the same prompt with temperature set to zero. Note that the output is not completely deterministic, as other parameters affect token selection, but the results will tend to be more stable."
   ]
  },
  {
   "cell_type": "code",
   "execution_count": 16,
   "id": "fe6710ad",
   "metadata": {
    "execution": {
     "iopub.execute_input": "2025-03-31T21:57:13.992648Z",
     "iopub.status.busy": "2025-03-31T21:57:13.992241Z",
     "iopub.status.idle": "2025-03-31T21:57:15.864173Z",
     "shell.execute_reply": "2025-03-31T21:57:15.862701Z"
    },
    "id": "clymkWv-PfUZ",
    "papermill": {
     "duration": 1.889959,
     "end_time": "2025-03-31T21:57:15.866827",
     "exception": false,
     "start_time": "2025-03-31T21:57:13.976868",
     "status": "completed"
    },
    "tags": []
   },
   "outputs": [
    {
     "name": "stdout",
     "output_type": "stream",
     "text": [
      "Azure\n",
      " -------------------------\n",
      "Azure\n",
      " -------------------------\n",
      "Azure\n",
      " -------------------------\n",
      "Azure\n",
      " -------------------------\n",
      "Azure\n",
      " -------------------------\n"
     ]
    }
   ],
   "source": [
    "low_temp_config = types.GenerateContentConfig(temperature=0.0)\n",
    "\n",
    "for _ in range(5):\n",
    "  response = client.models.generate_content(\n",
    "      model='gemini-2.0-flash',\n",
    "      config=low_temp_config,\n",
    "      contents='Pick a random colour... (respond in a single word)')\n",
    "\n",
    "  if response.text:\n",
    "    print(response.text, '-' * 25)"
   ]
  },
  {
   "cell_type": "markdown",
   "id": "524e3f5c",
   "metadata": {
    "id": "St5nt3vzitsZ",
    "papermill": {
     "duration": 0.013879,
     "end_time": "2025-03-31T21:57:15.894760",
     "exception": false,
     "start_time": "2025-03-31T21:57:15.880881",
     "status": "completed"
    },
    "tags": []
   },
   "source": [
    "### Top-P\n",
    "\n",
    "Like temperature, the top-P parameter is also used to control the diversity of the model's output.\n",
    "\n",
    "Top-P defines the probability threshold that, once cumulatively exceeded, tokens stop being selected as candidates. A top-P of 0 is typically equivalent to greedy decoding, and a top-P of 1 typically selects every token in the model's vocabulary.\n",
    "\n",
    "You may also see top-K referenced in LLM literature. Top-K is not configurable in the Gemini 2.0 series of models, but can be changed in older models. Top-K is a positive integer that defines the number of most probable tokens from which to select the output token. A top-K of 1 selects a single token, performing greedy decoding.\n",
    "\n",
    "\n",
    "Run this example a number of times, change the settings and observe the change in output."
   ]
  },
  {
   "cell_type": "code",
   "execution_count": 17,
   "id": "d7419347",
   "metadata": {
    "execution": {
     "iopub.execute_input": "2025-03-31T21:57:15.925437Z",
     "iopub.status.busy": "2025-03-31T21:57:15.924553Z",
     "iopub.status.idle": "2025-03-31T21:57:21.585355Z",
     "shell.execute_reply": "2025-03-31T21:57:21.583804Z"
    },
    "id": "lPlzpEavUV8F",
    "papermill": {
     "duration": 5.679655,
     "end_time": "2025-03-31T21:57:21.588223",
     "exception": false,
     "start_time": "2025-03-31T21:57:15.908568",
     "status": "completed"
    },
    "tags": []
   },
   "outputs": [
    {
     "name": "stdout",
     "output_type": "stream",
     "text": [
      "Clementine, a ginger tabby with eyes like melted butterscotch, considered herself a connoisseur of sunbeams. Her days were meticulously planned: bathe in the morning sun by the windowsill, nap on the radiator after lunch, stalk dust bunnies in the afternoon light, and curl up purring on the sofa as dusk settled. But Clementine harbored a secret, a yearning that whispered in the rustle of leaves and the chirping of unseen birds: adventure.\n",
      "\n",
      "One blustery autumn afternoon, the wind howled a tempting song against the windowpane. It rattled the latch loose, and Clementine, jolted from her dust bunny hunt, found the window unexpectedly ajar. Hesitation flickered, but the lure of the unknown was too strong. She squeezed through the gap, the scent of damp earth and decaying leaves filling her nostrils.\n",
      "\n",
      "The garden, usually viewed from the safety of the window, was a chaotic jungle. Towering sunflowers drooped their weary heads, and thorny rose bushes clutched at her fur. Fear pricked at her, but Clementine pressed on, emboldened by the thrill of transgression.\n",
      "\n",
      "Her adventure began in earnest when a bright flash of turquoise caught her eye. A fat, iridescent beetle, laden with dewdrops, scuttled towards the fence. Clementine, instincts roaring, gave chase.\n",
      "\n",
      "The beetle squeezed through a gap in the wooden planks, and Clementine followed, finding herself in an alleyway teeming with smells she’d only dreamt of: discarded fish wrappers, the tangy scent of rain-soaked cardboard, and the tantalizing aroma of...freedom.\n",
      "\n",
      "The alley led to a bustling street, a symphony of honking cars and chattering humans. Clementine, small and ginger, navigated the chaos with surprising agility. She dodged a rogue skateboarder, leaped over a puddle of oily water, and even dared to swipe a stray french fry from an unsuspecting pedestrian.\n",
      "\n",
      "Her journey led her to the city park, a sprawling oasis of green in the concrete jungle. Here, she encountered creatures she’d only seen on the television: squirrels burying nuts with frantic efficiency, dogs straining at their leashes, and pigeons strutting with an air of unearned importance.\n",
      "\n",
      "Clementine, emboldened by her newfound confidence, even dared to approach a majestic grey cat with a torn ear and a knowing glint in his amber eyes. He was Scarface, the legend of the park, a feline Robin Hood who pilfered scraps from picnicking families and ruled the roost with silent authority.\n",
      "\n",
      "Scarface, impressed by Clementine’s bravado (and perhaps a little hungry), shared a stolen piece of sausage. As they ate, he told her stories of daring exploits, of rooftop chases and midnight raids on garbage bins.\n",
      "\n",
      "Clementine, captivated, imagined herself as a fearless adventurer, a tiny ginger warrior conquering the urban wilderness. But as the sun began to dip below the horizon, a pang of longing tugged at her heart. She missed the warmth of her familiar sofa, the comforting rhythm of her human's breathing, and the predictable routine of her sunbeam-drenched days.\n",
      "\n",
      "Scarface, sensing her change of heart, nudged her towards a familiar scent – the faint, comforting aroma of home. Following her nose, Clementine retraced her steps, eventually finding the gap in the fence and the still-ajar window.\n",
      "\n",
      "She slipped back inside, the scent of lavender and home filling her lungs. Her human, oblivious to her adventure, was humming softly as she prepared dinner. Clementine purred, rubbing against her legs, a silent apology for her escapade.\n",
      "\n",
      "Curling up on the sofa, Clementine watched the darkness gather outside. She was no longer just a connoisseur of sunbeams. She was an adventurer, a conqueror of alleys, a friend of Scarface. She had tasted freedom, and it had changed her.\n",
      "\n",
      "From that day on, Clementine’s naps were punctuated by vivid dreams of daring escapes and thrilling chases. And although she never again ventured out of the window, she knew, deep in her ginger heart, that adventure was always just a heartbeat away, waiting to be rediscovered in the rustle of leaves and the whisper of the wind. She was, after all, a cat of the world, and the world was her sunbeam-drenched oyster.\n",
      "\n"
     ]
    }
   ],
   "source": [
    "model_config = types.GenerateContentConfig(\n",
    "    # These are the default values for gemini-2.0-flash.\n",
    "    temperature=1.0,\n",
    "    top_p=0.95,\n",
    ")\n",
    "\n",
    "story_prompt = \"You are a creative writer. Write a short story about a cat who goes on an adventure.\"\n",
    "response = client.models.generate_content(\n",
    "    model='gemini-2.0-flash',\n",
    "    config=model_config,\n",
    "    contents=story_prompt)\n",
    "\n",
    "print(response.text)"
   ]
  },
  {
   "cell_type": "markdown",
   "id": "02d165da",
   "metadata": {
    "id": "rMrYs1koY6DX",
    "papermill": {
     "duration": 0.0135,
     "end_time": "2025-03-31T21:57:21.615842",
     "exception": false,
     "start_time": "2025-03-31T21:57:21.602342",
     "status": "completed"
    },
    "tags": []
   },
   "source": [
    "## Prompting\n",
    "\n",
    "This section contains some prompts from the chapter for you to try out directly in the API. Try changing the text here to see how each prompt performs with different instructions, more examples, or any other changes you can think of."
   ]
  },
  {
   "cell_type": "markdown",
   "id": "0d7fd838",
   "metadata": {
    "id": "hhj_tQidZJP7",
    "papermill": {
     "duration": 0.013467,
     "end_time": "2025-03-31T21:57:21.643120",
     "exception": false,
     "start_time": "2025-03-31T21:57:21.629653",
     "status": "completed"
    },
    "tags": []
   },
   "source": [
    "### Zero-shot\n",
    "\n",
    "Zero-shot prompts are prompts that describe the request for the model directly.\n",
    "\n",
    "<table align=left>\n",
    "  <td>\n",
    "    <a target=\"_blank\" href=\"https://aistudio.google.com/prompts/1gzKKgDHwkAvexG5Up0LMtl1-6jKMKe4g\"><img src=\"https://ai.google.dev/site-assets/images/marketing/home/icon-ais.png\" style=\"height: 24px\" height=24/> Open in AI Studio</a>\n",
    "  </td>\n",
    "</table>"
   ]
  },
  {
   "cell_type": "code",
   "execution_count": 18,
   "id": "5d977bd8",
   "metadata": {
    "execution": {
     "iopub.execute_input": "2025-03-31T21:57:21.672846Z",
     "iopub.status.busy": "2025-03-31T21:57:21.672425Z",
     "iopub.status.idle": "2025-03-31T21:57:22.015330Z",
     "shell.execute_reply": "2025-03-31T21:57:22.013716Z"
    },
    "id": "1_t-cwnDZzbH",
    "papermill": {
     "duration": 0.360937,
     "end_time": "2025-03-31T21:57:22.017708",
     "exception": false,
     "start_time": "2025-03-31T21:57:21.656771",
     "status": "completed"
    },
    "tags": []
   },
   "outputs": [
    {
     "name": "stdout",
     "output_type": "stream",
     "text": [
      "POSITIVE\n",
      "\n"
     ]
    }
   ],
   "source": [
    "model_config = types.GenerateContentConfig(\n",
    "    temperature=0.1,\n",
    "    top_p=1,\n",
    "    max_output_tokens=5,\n",
    ")\n",
    "\n",
    "zero_shot_prompt = \"\"\"Classify movie reviews as POSITIVE, NEUTRAL or NEGATIVE.\n",
    "Review: \"Her\" is a disturbing study revealing the direction\n",
    "humanity is headed if AI is allowed to keep evolving,\n",
    "unchecked. I wish there were more movies like this masterpiece.\n",
    "Sentiment: \"\"\"\n",
    "\n",
    "response = client.models.generate_content(\n",
    "    model='gemini-2.0-flash',\n",
    "    config=model_config,\n",
    "    contents=zero_shot_prompt)\n",
    "\n",
    "print(response.text)"
   ]
  },
  {
   "cell_type": "markdown",
   "id": "13bf87da",
   "metadata": {
    "id": "3b5568bdeb11",
    "papermill": {
     "duration": 0.013553,
     "end_time": "2025-03-31T21:57:22.045211",
     "exception": false,
     "start_time": "2025-03-31T21:57:22.031658",
     "status": "completed"
    },
    "tags": []
   },
   "source": [
    "#### Enum mode\n",
    "\n",
    "The models are trained to generate text, and while the Gemini 2.0 models are great at following instructions, other models can sometimes produce more text than you may wish for. In the preceding example, the model will output the label, but sometimes it can include a preceding \"Sentiment\" label, and without an output token limit, it may also add explanatory text afterwards. See [this prompt in AI Studio](https://aistudio.google.com/prompts/1gzKKgDHwkAvexG5Up0LMtl1-6jKMKe4g) for an example.\n",
    "\n",
    "The Gemini API has an [Enum mode](https://github.com/google-gemini/cookbook/blob/main/quickstarts/Enum.ipynb) feature that allows you to constrain the output to a fixed set of values."
   ]
  },
  {
   "cell_type": "code",
   "execution_count": 19,
   "id": "a74d1bc5",
   "metadata": {
    "execution": {
     "iopub.execute_input": "2025-03-31T21:57:22.076015Z",
     "iopub.status.busy": "2025-03-31T21:57:22.075490Z",
     "iopub.status.idle": "2025-03-31T21:58:01.576065Z",
     "shell.execute_reply": "2025-03-31T21:58:01.574806Z"
    },
    "id": "ad118a56c598",
    "papermill": {
     "duration": 39.534011,
     "end_time": "2025-03-31T21:58:01.593303",
     "exception": false,
     "start_time": "2025-03-31T21:57:22.059292",
     "status": "completed"
    },
    "tags": []
   },
   "outputs": [
    {
     "name": "stdout",
     "output_type": "stream",
     "text": [
      "positive\n"
     ]
    }
   ],
   "source": [
    "import enum\n",
    "\n",
    "class Sentiment(enum.Enum):\n",
    "    POSITIVE = \"positive\"\n",
    "    NEUTRAL = \"neutral\"\n",
    "    NEGATIVE = \"negative\"\n",
    "\n",
    "\n",
    "response = client.models.generate_content(\n",
    "    model='gemini-2.0-flash',\n",
    "    config=types.GenerateContentConfig(\n",
    "        response_mime_type=\"text/x.enum\",\n",
    "        response_schema=Sentiment\n",
    "    ),\n",
    "    contents=zero_shot_prompt)\n",
    "\n",
    "print(response.text)"
   ]
  },
  {
   "cell_type": "markdown",
   "id": "961c4945",
   "metadata": {
    "papermill": {
     "duration": 0.014282,
     "end_time": "2025-03-31T21:58:01.622211",
     "exception": false,
     "start_time": "2025-03-31T21:58:01.607929",
     "status": "completed"
    },
    "tags": []
   },
   "source": [
    "When using constrained output like an enum, the Python SDK will attempt to convert the model's text response into a Python object automatically. It's stored in the `response.parsed` field."
   ]
  },
  {
   "cell_type": "code",
   "execution_count": 20,
   "id": "bbde0501",
   "metadata": {
    "execution": {
     "iopub.execute_input": "2025-03-31T21:58:01.653783Z",
     "iopub.status.busy": "2025-03-31T21:58:01.653350Z",
     "iopub.status.idle": "2025-03-31T21:58:01.659482Z",
     "shell.execute_reply": "2025-03-31T21:58:01.658217Z"
    },
    "papermill": {
     "duration": 0.025098,
     "end_time": "2025-03-31T21:58:01.662230",
     "exception": false,
     "start_time": "2025-03-31T21:58:01.637132",
     "status": "completed"
    },
    "tags": []
   },
   "outputs": [
    {
     "name": "stdout",
     "output_type": "stream",
     "text": [
      "Sentiment.POSITIVE\n",
      "<enum 'Sentiment'>\n"
     ]
    }
   ],
   "source": [
    "enum_response = response.parsed\n",
    "print(enum_response)\n",
    "print(type(enum_response))"
   ]
  },
  {
   "cell_type": "markdown",
   "id": "2aed2c7c",
   "metadata": {
    "id": "0udiSwNbv45W",
    "papermill": {
     "duration": 0.014202,
     "end_time": "2025-03-31T21:58:01.690698",
     "exception": false,
     "start_time": "2025-03-31T21:58:01.676496",
     "status": "completed"
    },
    "tags": []
   },
   "source": [
    "### One-shot and few-shot\n",
    "\n",
    "Providing an example of the expected response is known as a \"one-shot\" prompt. When you provide multiple examples, it is a \"few-shot\" prompt.\n",
    "\n",
    "<table align=left>\n",
    "  <td>\n",
    "    <a target=\"_blank\" href=\"https://aistudio.google.com/prompts/1jjWkjUSoMXmLvMJ7IzADr_GxHPJVV2bg\"><img src=\"https://ai.google.dev/site-assets/images/marketing/home/icon-ais.png\" style=\"height: 24px\" height=24/> Open in AI Studio</a>\n",
    "  </td>\n",
    "</table>\n"
   ]
  },
  {
   "cell_type": "code",
   "execution_count": 21,
   "id": "58c8c34e",
   "metadata": {
    "execution": {
     "iopub.execute_input": "2025-03-31T21:58:01.721219Z",
     "iopub.status.busy": "2025-03-31T21:58:01.720871Z",
     "iopub.status.idle": "2025-03-31T21:58:02.200381Z",
     "shell.execute_reply": "2025-03-31T21:58:02.198945Z"
    },
    "id": "hd4mVUukwOKZ",
    "papermill": {
     "duration": 0.497898,
     "end_time": "2025-03-31T21:58:02.203177",
     "exception": false,
     "start_time": "2025-03-31T21:58:01.705279",
     "status": "completed"
    },
    "tags": []
   },
   "outputs": [
    {
     "name": "stdout",
     "output_type": "stream",
     "text": [
      "```json\n",
      "{\n",
      "\"size\": \"large\",\n",
      "\"type\": \"normal\",\n",
      "\"ingredients\": [\"cheese\", \"pineapple\"]\n",
      "}\n",
      "```\n",
      "\n"
     ]
    }
   ],
   "source": [
    "few_shot_prompt = \"\"\"Parse a customer's pizza order into valid JSON:\n",
    "\n",
    "EXAMPLE:\n",
    "I want a small pizza with cheese, tomato sauce, and pepperoni.\n",
    "JSON Response:\n",
    "```\n",
    "{\n",
    "\"size\": \"small\",\n",
    "\"type\": \"normal\",\n",
    "\"ingredients\": [\"cheese\", \"tomato sauce\", \"pepperoni\"]\n",
    "}\n",
    "```\n",
    "\n",
    "EXAMPLE:\n",
    "Can I get a large pizza with tomato sauce, basil and mozzarella\n",
    "JSON Response:\n",
    "```\n",
    "{\n",
    "\"size\": \"large\",\n",
    "\"type\": \"normal\",\n",
    "\"ingredients\": [\"tomato sauce\", \"basil\", \"mozzarella\"]\n",
    "}\n",
    "```\n",
    "\n",
    "ORDER:\n",
    "\"\"\"\n",
    "\n",
    "customer_order = \"Give me a large with cheese & pineapple\"\n",
    "\n",
    "response = client.models.generate_content(\n",
    "    model='gemini-2.0-flash',\n",
    "    config=types.GenerateContentConfig(\n",
    "        temperature=0.1,\n",
    "        top_p=1,\n",
    "        max_output_tokens=250,\n",
    "    ),\n",
    "    contents=[few_shot_prompt, customer_order])\n",
    "\n",
    "print(response.text)"
   ]
  },
  {
   "cell_type": "markdown",
   "id": "eb686657",
   "metadata": {
    "id": "021293096f08",
    "papermill": {
     "duration": 0.013745,
     "end_time": "2025-03-31T21:58:02.233863",
     "exception": false,
     "start_time": "2025-03-31T21:58:02.220118",
     "status": "completed"
    },
    "tags": []
   },
   "source": [
    "#### JSON mode\n",
    "\n",
    "To provide control over the schema, and to ensure that you only receive JSON (with no other text or markdown), you can use the Gemini API's [JSON mode](https://github.com/google-gemini/cookbook/blob/main/quickstarts/JSON_mode.ipynb). This forces the model to constrain decoding, such that token selection is guided by the supplied schema."
   ]
  },
  {
   "cell_type": "code",
   "execution_count": 22,
   "id": "3c8effe7",
   "metadata": {
    "execution": {
     "iopub.execute_input": "2025-03-31T21:58:02.263649Z",
     "iopub.status.busy": "2025-03-31T21:58:02.263268Z",
     "iopub.status.idle": "2025-03-31T21:58:02.818103Z",
     "shell.execute_reply": "2025-03-31T21:58:02.816686Z"
    },
    "id": "50fbf0260912",
    "papermill": {
     "duration": 0.573026,
     "end_time": "2025-03-31T21:58:02.820948",
     "exception": false,
     "start_time": "2025-03-31T21:58:02.247922",
     "status": "completed"
    },
    "tags": []
   },
   "outputs": [
    {
     "name": "stdout",
     "output_type": "stream",
     "text": [
      "{\n",
      "  \"size\": \"large\",\n",
      "  \"ingredients\": [\"apple\", \"chocolate\"],\n",
      "  \"type\": \"dessert\"\n",
      "}\n"
     ]
    }
   ],
   "source": [
    "import typing_extensions as typing\n",
    "\n",
    "class PizzaOrder(typing.TypedDict):\n",
    "    size: str\n",
    "    ingredients: list[str]\n",
    "    type: str\n",
    "\n",
    "\n",
    "response = client.models.generate_content(\n",
    "    model='gemini-2.0-flash',\n",
    "    config=types.GenerateContentConfig(\n",
    "        temperature=0.1,\n",
    "        response_mime_type=\"application/json\",\n",
    "        response_schema=PizzaOrder,\n",
    "    ),\n",
    "    contents=\"Can I have a large dessert pizza with apple and chocolate\")\n",
    "\n",
    "print(response.text)"
   ]
  },
  {
   "cell_type": "markdown",
   "id": "7e0c8dc2",
   "metadata": {
    "id": "4a93e338e57c",
    "papermill": {
     "duration": 0.01533,
     "end_time": "2025-03-31T21:58:02.851504",
     "exception": false,
     "start_time": "2025-03-31T21:58:02.836174",
     "status": "completed"
    },
    "tags": []
   },
   "source": [
    "### Chain of Thought (CoT)\n",
    "\n",
    "Direct prompting on LLMs can return answers quickly and (in terms of output token usage) efficiently, but they can be prone to hallucination. The answer may \"look\" correct (in terms of language and syntax) but is incorrect in terms of factuality and reasoning.\n",
    "\n",
    "Chain-of-Thought prompting is a technique where you instruct the model to output intermediate reasoning steps, and it typically gets better results, especially when combined with few-shot examples. It is worth noting that this technique doesn't completely eliminate hallucinations, and that it tends to cost more to run, due to the increased token count.\n",
    "\n",
    "Models like the Gemini family are trained to be \"chatty\" or \"thoughtful\" and will provide reasoning steps without prompting, so for this simple example you can ask the model to be more direct in the prompt to force a non-reasoning response. Try re-running this step if the model gets lucky and gets the answer correct on the first try."
   ]
  },
  {
   "cell_type": "code",
   "execution_count": 23,
   "id": "76d64398",
   "metadata": {
    "execution": {
     "iopub.execute_input": "2025-03-31T21:58:02.884688Z",
     "iopub.status.busy": "2025-03-31T21:58:02.883459Z",
     "iopub.status.idle": "2025-03-31T21:59:28.924298Z",
     "shell.execute_reply": "2025-03-31T21:59:28.922954Z"
    },
    "id": "5715555db1c1",
    "papermill": {
     "duration": 86.075301,
     "end_time": "2025-03-31T21:59:28.941945",
     "exception": false,
     "start_time": "2025-03-31T21:58:02.866644",
     "status": "completed"
    },
    "tags": []
   },
   "outputs": [
    {
     "name": "stdout",
     "output_type": "stream",
     "text": [
      "52\n",
      "\n"
     ]
    }
   ],
   "source": [
    "prompt = \"\"\"When I was 4 years old, my partner was 3 times my age. Now, I\n",
    "am 20 years old. How old is my partner? Return the answer directly.\"\"\"\n",
    "\n",
    "response = client.models.generate_content(\n",
    "    model='gemini-2.0-flash',\n",
    "    contents=prompt)\n",
    "\n",
    "print(response.text)"
   ]
  },
  {
   "cell_type": "markdown",
   "id": "1808fc17",
   "metadata": {
    "id": "e12b19677bfd",
    "papermill": {
     "duration": 0.014188,
     "end_time": "2025-03-31T21:59:28.970485",
     "exception": false,
     "start_time": "2025-03-31T21:59:28.956297",
     "status": "completed"
    },
    "tags": []
   },
   "source": [
    "Now try the same approach, but indicate to the model that it should \"think step by step\"."
   ]
  },
  {
   "cell_type": "code",
   "execution_count": 24,
   "id": "9ee8e29e",
   "metadata": {
    "execution": {
     "iopub.execute_input": "2025-03-31T21:59:29.005995Z",
     "iopub.status.busy": "2025-03-31T21:59:29.003202Z",
     "iopub.status.idle": "2025-03-31T21:59:29.936041Z",
     "shell.execute_reply": "2025-03-31T21:59:29.934894Z"
    },
    "id": "ffd7536a481f",
    "papermill": {
     "duration": 0.953246,
     "end_time": "2025-03-31T21:59:29.938354",
     "exception": false,
     "start_time": "2025-03-31T21:59:28.985108",
     "status": "completed"
    },
    "tags": []
   },
   "outputs": [
    {
     "data": {
      "text/markdown": [
       "Here's how to solve the problem:\n",
       "\n",
       "1. **Find the age difference:** When you were 4, your partner was 3 times your age, meaning they were 4 * 3 = 12 years old.\n",
       "\n",
       "2. **Calculate the age difference:** The age difference between you and your partner is 12 - 4 = 8 years.\n",
       "\n",
       "3. **Determine the partner's current age:** Since your partner is 8 years older than you, they are currently 20 + 8 = 28 years old.\n",
       "\n",
       "**Answer:** Your partner is 28 years old.\n"
      ],
      "text/plain": [
       "<IPython.core.display.Markdown object>"
      ]
     },
     "execution_count": 24,
     "metadata": {},
     "output_type": "execute_result"
    }
   ],
   "source": [
    "prompt = \"\"\"When I was 4 years old, my partner was 3 times my age. Now,\n",
    "I am 20 years old. How old is my partner? Let's think step by step.\"\"\"\n",
    "\n",
    "response = client.models.generate_content(\n",
    "    model='gemini-2.0-flash',\n",
    "    contents=prompt)\n",
    "\n",
    "Markdown(response.text)"
   ]
  },
  {
   "cell_type": "markdown",
   "id": "9fce5238",
   "metadata": {
    "id": "oiLgBQJj0V53",
    "papermill": {
     "duration": 0.01379,
     "end_time": "2025-03-31T21:59:29.966910",
     "exception": false,
     "start_time": "2025-03-31T21:59:29.953120",
     "status": "completed"
    },
    "tags": []
   },
   "source": [
    "### ReAct: Reason and act\n",
    "\n",
    "In this example you will run a ReAct prompt directly in the Gemini API and perform the searching steps yourself. As this prompt follows a well-defined structure, there are frameworks available that wrap the prompt into easier-to-use APIs that make tool calls automatically, such as the LangChain example from the \"Prompting\" whitepaper.\n",
    "\n",
    "To try this out with the Wikipedia search engine, check out the [Searching Wikipedia with ReAct](https://github.com/google-gemini/cookbook/blob/main/examples/Search_Wikipedia_using_ReAct.ipynb) cookbook example.\n",
    "\n",
    "\n",
    "> Note: The prompt and in-context examples used here are from [https://github.com/ysymyth/ReAct](https://github.com/ysymyth/ReAct) which is published under an [MIT license](https://opensource.org/licenses/MIT), Copyright (c) 2023 Shunyu Yao.\n",
    "\n",
    "<table align=left>\n",
    "  <td>\n",
    "    <a target=\"_blank\" href=\"https://aistudio.google.com/prompts/18oo63Lwosd-bQ6Ay51uGogB3Wk3H8XMO\"><img src=\"https://ai.google.dev/site-assets/images/marketing/home/icon-ais.png\" style=\"height: 24px\" height=24/> Open in AI Studio</a>\n",
    "  </td>\n",
    "</table>\n"
   ]
  },
  {
   "cell_type": "code",
   "execution_count": 25,
   "id": "e99d8968",
   "metadata": {
    "execution": {
     "iopub.execute_input": "2025-03-31T21:59:29.997115Z",
     "iopub.status.busy": "2025-03-31T21:59:29.996722Z",
     "iopub.status.idle": "2025-03-31T21:59:30.006243Z",
     "shell.execute_reply": "2025-03-31T21:59:30.004431Z"
    },
    "id": "cBgyNJ5z0VSs",
    "papermill": {
     "duration": 0.028267,
     "end_time": "2025-03-31T21:59:30.009316",
     "exception": false,
     "start_time": "2025-03-31T21:59:29.981049",
     "status": "completed"
    },
    "tags": []
   },
   "outputs": [],
   "source": [
    "model_instructions = \"\"\"\n",
    "Solve a question answering task with interleaving Thought, Action, Observation steps. Thought can reason about the current situation,\n",
    "Observation is understanding relevant information from an Action's output and Action can be one of three types:\n",
    " (1) <search>entity</search>, which searches the exact entity on Wikipedia and returns the first paragraph if it exists. If not, it\n",
    "     will return some similar entities to search and you can try to search the information from those topics.\n",
    " (2) <lookup>keyword</lookup>, which returns the next sentence containing keyword in the current context. This only does exact matches,\n",
    "     so keep your searches short.\n",
    " (3) <finish>answer</finish>, which returns the answer and finishes the task.\n",
    "\"\"\"\n",
    "\n",
    "example1 = \"\"\"Question\n",
    "Musician and satirist Allie Goertz wrote a song about the \"The Simpsons\" character Milhouse, who Matt Groening named after who?\n",
    "\n",
    "Thought 1\n",
    "The question simplifies to \"The Simpsons\" character Milhouse is named after who. I only need to search Milhouse and find who it is named after.\n",
    "\n",
    "Action 1\n",
    "<search>Milhouse</search>\n",
    "\n",
    "Observation 1\n",
    "Milhouse Mussolini Van Houten is a recurring character in the Fox animated television series The Simpsons voiced by Pamela Hayden and created by Matt Groening.\n",
    "\n",
    "Thought 2\n",
    "The paragraph does not tell who Milhouse is named after, maybe I can look up \"named after\".\n",
    "\n",
    "Action 2\n",
    "<lookup>named after</lookup>\n",
    "\n",
    "Observation 2\n",
    "Milhouse was named after U.S. president Richard Nixon, whose middle name was Milhous.\n",
    "\n",
    "Thought 3\n",
    "Milhouse was named after U.S. president Richard Nixon, so the answer is Richard Nixon.\n",
    "\n",
    "Action 3\n",
    "<finish>Richard Nixon</finish>\n",
    "\"\"\"\n",
    "\n",
    "example2 = \"\"\"Question\n",
    "What is the elevation range for the area that the eastern sector of the Colorado orogeny extends into?\n",
    "\n",
    "Thought 1\n",
    "I need to search Colorado orogeny, find the area that the eastern sector of the Colorado orogeny extends into, then find the elevation range of the area.\n",
    "\n",
    "Action 1\n",
    "<search>Colorado orogeny</search>\n",
    "\n",
    "Observation 1\n",
    "The Colorado orogeny was an episode of mountain building (an orogeny) in Colorado and surrounding areas.\n",
    "\n",
    "Thought 2\n",
    "It does not mention the eastern sector. So I need to look up eastern sector.\n",
    "\n",
    "Action 2\n",
    "<lookup>eastern sector</lookup>\n",
    "\n",
    "Observation 2\n",
    "The eastern sector extends into the High Plains and is called the Central Plains orogeny.\n",
    "\n",
    "Thought 3\n",
    "The eastern sector of Colorado orogeny extends into the High Plains. So I need to search High Plains and find its elevation range.\n",
    "\n",
    "Action 3\n",
    "<search>High Plains</search>\n",
    "\n",
    "Observation 3\n",
    "High Plains refers to one of two distinct land regions\n",
    "\n",
    "Thought 4\n",
    "I need to instead search High Plains (United States).\n",
    "\n",
    "Action 4\n",
    "<search>High Plains (United States)</search>\n",
    "\n",
    "Observation 4\n",
    "The High Plains are a subregion of the Great Plains. From east to west, the High Plains rise in elevation from around 1,800 to 7,000 ft (550 to 2,130m).\n",
    "\n",
    "Thought 5\n",
    "High Plains rise in elevation from around 1,800 to 7,000 ft, so the answer is 1,800 to 7,000 ft.\n",
    "\n",
    "Action 5\n",
    "<finish>1,800 to 7,000 ft</finish>\n",
    "\"\"\"\n",
    "\n",
    "# Come up with more examples yourself, or take a look through https://github.com/ysymyth/ReAct/"
   ]
  },
  {
   "cell_type": "markdown",
   "id": "71262ed0",
   "metadata": {
    "id": "C3wbfstjTgey",
    "papermill": {
     "duration": 0.014414,
     "end_time": "2025-03-31T21:59:30.043204",
     "exception": false,
     "start_time": "2025-03-31T21:59:30.028790",
     "status": "completed"
    },
    "tags": []
   },
   "source": [
    "To capture a single step at a time, while ignoring any hallucinated Observation steps, you will use `stop_sequences` to end the generation process. The steps are `Thought`, `Action`, `Observation`, in that order."
   ]
  },
  {
   "cell_type": "code",
   "execution_count": 26,
   "id": "d73f36fe",
   "metadata": {
    "execution": {
     "iopub.execute_input": "2025-03-31T21:59:30.073461Z",
     "iopub.status.busy": "2025-03-31T21:59:30.073084Z",
     "iopub.status.idle": "2025-03-31T22:00:03.368536Z",
     "shell.execute_reply": "2025-03-31T22:00:03.367239Z"
    },
    "id": "8mxrXRkRTdXm",
    "papermill": {
     "duration": 33.327777,
     "end_time": "2025-03-31T22:00:03.385353",
     "exception": false,
     "start_time": "2025-03-31T21:59:30.057576",
     "status": "completed"
    },
    "tags": []
   },
   "outputs": [
    {
     "name": "stdout",
     "output_type": "stream",
     "text": [
      "Thought 1\n",
      "I need to find the transformers NLP paper, find the authors, and then determine the youngest author.\n",
      "\n",
      "Action 1\n",
      "<search>transformers NLP paper</search>\n",
      "\n"
     ]
    }
   ],
   "source": [
    "question = \"\"\"Question\n",
    "Who was the youngest author listed on the transformers NLP paper?\n",
    "\"\"\"\n",
    "\n",
    "# You will perform the Action; so generate up to, but not including, the Observation.\n",
    "react_config = types.GenerateContentConfig(\n",
    "    stop_sequences=[\"\\nObservation\"],\n",
    "    system_instruction=model_instructions + example1 + example2,\n",
    ")\n",
    "\n",
    "# Create a chat that has the model instructions and examples pre-seeded.\n",
    "react_chat = client.chats.create(\n",
    "    model='gemini-2.0-flash',\n",
    "    config=react_config,\n",
    ")\n",
    "\n",
    "resp = react_chat.send_message(question)\n",
    "print(resp.text)"
   ]
  },
  {
   "cell_type": "markdown",
   "id": "9c65034e",
   "metadata": {
    "id": "aW2PIdLbVv3l",
    "papermill": {
     "duration": 0.014515,
     "end_time": "2025-03-31T22:00:03.414773",
     "exception": false,
     "start_time": "2025-03-31T22:00:03.400258",
     "status": "completed"
    },
    "tags": []
   },
   "source": [
    "Now you can perform this research yourself and supply it back to the model."
   ]
  },
  {
   "cell_type": "code",
   "execution_count": 27,
   "id": "af9cfc25",
   "metadata": {
    "execution": {
     "iopub.execute_input": "2025-03-31T22:00:03.446056Z",
     "iopub.status.busy": "2025-03-31T22:00:03.445570Z",
     "iopub.status.idle": "2025-03-31T22:00:04.329462Z",
     "shell.execute_reply": "2025-03-31T22:00:04.328132Z"
    },
    "id": "mLMc0DZaV9g2",
    "papermill": {
     "duration": 0.903042,
     "end_time": "2025-03-31T22:00:04.332349",
     "exception": false,
     "start_time": "2025-03-31T22:00:03.429307",
     "status": "completed"
    },
    "tags": []
   },
   "outputs": [
    {
     "name": "stdout",
     "output_type": "stream",
     "text": [
      "Thought 2\n",
      "Now I have the authors of the paper: Ashish Vaswani, Noam Shazeer, Niki Parmar, Jakob Uszkoreit, Llion Jones, Aidan N. Gomez, Lukasz Kaiser, Illia Polosukhin. I need to find the youngest author among these. To do this, I will search for each author individually and look for their birthdate.\n",
      "\n",
      "Action 2\n",
      "<search>Ashish Vaswani</search>\n",
      "\n"
     ]
    }
   ],
   "source": [
    "observation = \"\"\"Observation 1\n",
    "[1706.03762] Attention Is All You Need\n",
    "Ashish Vaswani, Noam Shazeer, Niki Parmar, Jakob Uszkoreit, Llion Jones, Aidan N. Gomez, Lukasz Kaiser, Illia Polosukhin\n",
    "We propose a new simple network architecture, the Transformer, based solely on attention mechanisms, dispensing with recurrence and convolutions entirely.\n",
    "\"\"\"\n",
    "resp = react_chat.send_message(observation)\n",
    "print(resp.text)"
   ]
  },
  {
   "cell_type": "markdown",
   "id": "bd231eb8",
   "metadata": {
    "id": "bo0tzf4nX6dA",
    "papermill": {
     "duration": 0.015087,
     "end_time": "2025-03-31T22:00:04.363003",
     "exception": false,
     "start_time": "2025-03-31T22:00:04.347916",
     "status": "completed"
    },
    "tags": []
   },
   "source": [
    "This process repeats until the `<finish>` action is reached. You can continue running this yourself if you like, or try the [Wikipedia example](https://github.com/google-gemini/cookbook/blob/main/examples/Search_Wikipedia_using_ReAct.ipynb) to see a fully automated ReAct system at work."
   ]
  },
  {
   "cell_type": "markdown",
   "id": "a020eee5",
   "metadata": {
    "papermill": {
     "duration": 0.016383,
     "end_time": "2025-03-31T22:00:04.394555",
     "exception": false,
     "start_time": "2025-03-31T22:00:04.378172",
     "status": "completed"
    },
    "tags": []
   },
   "source": [
    "## Thinking mode\n",
    "\n",
    "The experiemental Gemini Flash 2.0 \"Thinking\" model has been trained to generate the \"thinking process\" the model goes through as part of its response. As a result, the Flash Thinking model is capable of stronger reasoning capabilities in its responses.\n",
    "\n",
    "Using a \"thinking mode\" model can provide you with high-quality responses without needing specialised prompting like the previous approaches. One reason this technique is effective is that you induce the model to generate relevant information (\"brainstorming\", or \"thoughts\") that is then used as part of the context in which the final response is generated.\n",
    "\n",
    "Note that when you use the API, you get the final response from the model, but the thoughts are not captured. To see the intermediate thoughts, try out [the thinking mode model in AI Studio](https://aistudio.google.com/prompts/new_chat?model=gemini-2.0-flash-thinking-exp-01-21).\n",
    "\n",
    "<table align=left>\n",
    "  <td>\n",
    "    <a target=\"_blank\" href=\"https://aistudio.google.com/prompts/1Z991SV7lZZZqioOiqIUPv9a9ix-ws4zk\"><img src=\"https://ai.google.dev/site-assets/images/marketing/home/icon-ais.png\" style=\"height: 24px\" height=24/> Open in AI Studio</a>\n",
    "  </td>\n",
    "</table>"
   ]
  },
  {
   "cell_type": "code",
   "execution_count": 28,
   "id": "de83e593",
   "metadata": {
    "execution": {
     "iopub.execute_input": "2025-03-31T22:00:04.428558Z",
     "iopub.status.busy": "2025-03-31T22:00:04.428125Z",
     "iopub.status.idle": "2025-03-31T22:00:10.723124Z",
     "shell.execute_reply": "2025-03-31T22:00:10.721928Z"
    },
    "papermill": {
     "duration": 6.314828,
     "end_time": "2025-03-31T22:00:10.725486",
     "exception": false,
     "start_time": "2025-03-31T22:00:04.410658",
     "status": "completed"
    },
    "tags": []
   },
   "outputs": [
    {
     "data": {
      "text/markdown": [
       "Based on the information available, **Aidan N. Gomez** is likely the youngest author listed on the \"Attention is All You Need\" paper, which introduced the Transformer architecture.\n",
       "\n",
       "Here's why:\n",
       "\n",
       "* **Aidan N. Gomez was a PhD student at the University of Oxford at the time of the paper's publication (2017).** PhD students are generally younger than established researchers and professors who are further along in their careers.\n",
       "* **The other authors were mostly researchers at Google Brain.** This typically implies a more advanced stage in their careers, suggesting they are likely older than a PhD student.\n",
       "\n",
       "While precise birthdates for all authors are not readily and publicly available to definitively confirm the youngest, **Aidan N. Gomez's academic status at the time strongly indicates he was the youngest author.**\n",
       "\n",
       "Therefore, the most probable answer is **Aidan N. Gomez**."
      ],
      "text/plain": [
       "<IPython.core.display.Markdown object>"
      ]
     },
     "execution_count": 28,
     "metadata": {},
     "output_type": "execute_result"
    }
   ],
   "source": [
    "import io\n",
    "from IPython.display import Markdown, clear_output\n",
    "\n",
    "\n",
    "response = client.models.generate_content_stream(\n",
    "    model='gemini-2.0-flash-thinking-exp',\n",
    "    contents='Who was the youngest author listed on the transformers NLP paper?',\n",
    ")\n",
    "\n",
    "buf = io.StringIO()\n",
    "for chunk in response:\n",
    "    buf.write(chunk.text)\n",
    "    # Display the response as it is streamed\n",
    "    print(chunk.text, end='')\n",
    "\n",
    "# And then render the finished response as formatted markdown.\n",
    "clear_output()\n",
    "Markdown(buf.getvalue())"
   ]
  },
  {
   "cell_type": "markdown",
   "id": "25502e1b",
   "metadata": {
    "id": "jPiZ_eIIaVPt",
    "papermill": {
     "duration": 0.014297,
     "end_time": "2025-03-31T22:00:10.754690",
     "exception": false,
     "start_time": "2025-03-31T22:00:10.740393",
     "status": "completed"
    },
    "tags": []
   },
   "source": [
    "## Code prompting"
   ]
  },
  {
   "cell_type": "markdown",
   "id": "c0dac791",
   "metadata": {
    "id": "ZinKamwXeR6C",
    "papermill": {
     "duration": 0.014804,
     "end_time": "2025-03-31T22:00:10.784104",
     "exception": false,
     "start_time": "2025-03-31T22:00:10.769300",
     "status": "completed"
    },
    "tags": []
   },
   "source": [
    "### Generating code\n",
    "\n",
    "The Gemini family of models can be used to generate code, configuration and scripts. Generating code can be helpful when learning to code, learning a new language or for rapidly generating a first draft.\n",
    "\n",
    "It's important to be aware that since LLMs can make mistakes, and can repeat training data, it's essential to read and test your code first, and comply with any relevant licenses.\n",
    "\n",
    "<table align=left>\n",
    "  <td>\n",
    "    <a target=\"_blank\" href=\"https://aistudio.google.com/prompts/1YX71JGtzDjXQkgdes8bP6i3oH5lCRKxv\"><img src=\"https://ai.google.dev/site-assets/images/marketing/home/icon-ais.png\" style=\"height: 24px\" height=24/> Open in AI Studio</a>\n",
    "  </td>\n",
    "</table>"
   ]
  },
  {
   "cell_type": "code",
   "execution_count": 29,
   "id": "4bb12c3e",
   "metadata": {
    "execution": {
     "iopub.execute_input": "2025-03-31T22:00:10.815706Z",
     "iopub.status.busy": "2025-03-31T22:00:10.815277Z",
     "iopub.status.idle": "2025-03-31T22:00:11.697204Z",
     "shell.execute_reply": "2025-03-31T22:00:11.696033Z"
    },
    "id": "fOQP9pqmeUO1",
    "papermill": {
     "duration": 0.901036,
     "end_time": "2025-03-31T22:00:11.699858",
     "exception": false,
     "start_time": "2025-03-31T22:00:10.798822",
     "status": "completed"
    },
    "tags": []
   },
   "outputs": [
    {
     "data": {
      "text/markdown": [
       "```python\n",
       "def factorial(n):\n",
       "  \"\"\"Calculates the factorial of a non-negative integer.\n",
       "\n",
       "  Args:\n",
       "    n: An integer.\n",
       "\n",
       "  Returns:\n",
       "    The factorial of n, or 1 if n is 0.\n",
       "    Raises ValueError if n is negative.\n",
       "  \"\"\"\n",
       "  if n < 0:\n",
       "    raise ValueError(\"Factorial is not defined for negative numbers.\")\n",
       "  elif n == 0:\n",
       "    return 1\n",
       "  else:\n",
       "    result = 1\n",
       "    for i in range(1, n + 1):\n",
       "      result *= i\n",
       "    return result\n",
       "```"
      ],
      "text/plain": [
       "<IPython.core.display.Markdown object>"
      ]
     },
     "execution_count": 29,
     "metadata": {},
     "output_type": "execute_result"
    }
   ],
   "source": [
    "# The Gemini models love to talk, so it helps to specify they stick to the code if that\n",
    "# is all that you want.\n",
    "code_prompt = \"\"\"\n",
    "Write a Python function to calculate the factorial of a number. No explanation, provide only the code.\n",
    "\"\"\"\n",
    "\n",
    "response = client.models.generate_content(\n",
    "    model='gemini-2.0-flash',\n",
    "    config=types.GenerateContentConfig(\n",
    "        temperature=1,\n",
    "        top_p=1,\n",
    "        max_output_tokens=1024,\n",
    "    ),\n",
    "    contents=code_prompt)\n",
    "\n",
    "Markdown(response.text)"
   ]
  },
  {
   "cell_type": "markdown",
   "id": "0d7afce9",
   "metadata": {
    "id": "wlBMWSFhgVRQ",
    "papermill": {
     "duration": 0.015309,
     "end_time": "2025-03-31T22:00:11.730344",
     "exception": false,
     "start_time": "2025-03-31T22:00:11.715035",
     "status": "completed"
    },
    "tags": []
   },
   "source": [
    "### Code execution\n",
    "\n",
    "The Gemini API can automatically run generated code too, and will return the output.\n",
    "\n",
    "<table align=left>\n",
    "  <td>\n",
    "    <a target=\"_blank\" href=\"https://aistudio.google.com/prompts/11veFr_VYEwBWcLkhNLr-maCG0G8sS_7Z\"><img src=\"https://ai.google.dev/site-assets/images/marketing/home/icon-ais.png\" style=\"height: 24px\" height=24/> Open in AI Studio</a>\n",
    "  </td>\n",
    "</table>"
   ]
  },
  {
   "cell_type": "code",
   "execution_count": 30,
   "id": "b8e27be1",
   "metadata": {
    "execution": {
     "iopub.execute_input": "2025-03-31T22:00:11.763406Z",
     "iopub.status.busy": "2025-03-31T22:00:11.763041Z",
     "iopub.status.idle": "2025-03-31T22:00:13.599031Z",
     "shell.execute_reply": "2025-03-31T22:00:13.597681Z"
    },
    "id": "jT3OfWYfhjRL",
    "papermill": {
     "duration": 1.856061,
     "end_time": "2025-03-31T22:00:13.601967",
     "exception": false,
     "start_time": "2025-03-31T22:00:11.745906",
     "status": "completed"
    },
    "tags": []
   },
   "outputs": [
    {
     "name": "stdout",
     "output_type": "stream",
     "text": [
      "{'text': 'Okay, I can do that. First, I need to generate the first 14 odd '\n",
      "         'prime numbers. Remember that a prime number is a number greater than '\n",
      "         '1 that has only two divisors: 1 and itself.  Also, the question '\n",
      "         'specifically asks for *odd* prime numbers, so I should exclude 2.\\n'\n",
      "         '\\n'\n",
      "         'Then, I will sum these numbers.\\n'\n",
      "         '\\n'}\n",
      "-----\n",
      "{'executable_code': {'code': 'primes = []\\n'\n",
      "                             'num = 3\\n'\n",
      "                             'while len(primes) < 14:\\n'\n",
      "                             '    is_prime = True\\n'\n",
      "                             '    for i in range(2, int(num**0.5) + 1):\\n'\n",
      "                             '        if num % i == 0:\\n'\n",
      "                             '            is_prime = False\\n'\n",
      "                             '            break\\n'\n",
      "                             '    if is_prime:\\n'\n",
      "                             '        primes.append(num)\\n'\n",
      "                             '    num += 2  # Check only odd numbers\\n'\n",
      "                             '\\n'\n",
      "                             \"print(f'{primes=}')\\n\"\n",
      "                             '\\n'\n",
      "                             'sum_of_primes = sum(primes)\\n'\n",
      "                             \"print(f'{sum_of_primes=}')\\n\",\n",
      "                     'language': 'PYTHON'}}\n",
      "-----\n",
      "{'code_execution_result': {'outcome': 'OUTCOME_OK',\n",
      "                           'output': 'primes=[3, 5, 7, 11, 13, 17, 19, 23, 29, '\n",
      "                                     '31, 37, 41, 43, 47]\\n'\n",
      "                                     'sum_of_primes=326\\n'}}\n",
      "-----\n",
      "{'text': 'The first 14 odd prime numbers are 3, 5, 7, 11, 13, 17, 19, 23, 29, '\n",
      "         '31, 37, 41, 43, and 47. Their sum is 326.\\n'}\n",
      "-----\n"
     ]
    }
   ],
   "source": [
    "from pprint import pprint\n",
    "\n",
    "config = types.GenerateContentConfig(\n",
    "    tools=[types.Tool(code_execution=types.ToolCodeExecution())],\n",
    ")\n",
    "\n",
    "code_exec_prompt = \"\"\"\n",
    "Generate the first 14 odd prime numbers, then calculate their sum.\n",
    "\"\"\"\n",
    "\n",
    "response = client.models.generate_content(\n",
    "    model='gemini-2.0-flash',\n",
    "    config=config,\n",
    "    contents=code_exec_prompt)\n",
    "\n",
    "for part in response.candidates[0].content.parts:\n",
    "  pprint(part.to_json_dict())\n",
    "  print(\"-----\")"
   ]
  },
  {
   "cell_type": "markdown",
   "id": "459881cd",
   "metadata": {
    "id": "ZspT1GSkjG6d",
    "papermill": {
     "duration": 0.017336,
     "end_time": "2025-03-31T22:00:13.636148",
     "exception": false,
     "start_time": "2025-03-31T22:00:13.618812",
     "status": "completed"
    },
    "tags": []
   },
   "source": [
    "This response contains multiple parts, including an opening and closing text part that represent regular responses, an `executable_code` part that represents generated code and a `code_execution_result` part that represents the results from running the generated code.\n",
    "\n",
    "You can explore them individually."
   ]
  },
  {
   "cell_type": "code",
   "execution_count": 31,
   "id": "260f56d4",
   "metadata": {
    "execution": {
     "iopub.execute_input": "2025-03-31T22:00:13.670200Z",
     "iopub.status.busy": "2025-03-31T22:00:13.669775Z",
     "iopub.status.idle": "2025-03-31T22:00:13.685533Z",
     "shell.execute_reply": "2025-03-31T22:00:13.684275Z"
    },
    "papermill": {
     "duration": 0.03581,
     "end_time": "2025-03-31T22:00:13.688031",
     "exception": false,
     "start_time": "2025-03-31T22:00:13.652221",
     "status": "completed"
    },
    "tags": []
   },
   "outputs": [
    {
     "data": {
      "text/markdown": [
       "Okay, I can do that. First, I need to generate the first 14 odd prime numbers. Remember that a prime number is a number greater than 1 that has only two divisors: 1 and itself.  Also, the question specifically asks for *odd* prime numbers, so I should exclude 2.\n",
       "\n",
       "Then, I will sum these numbers.\n",
       "\n"
      ],
      "text/plain": [
       "<IPython.core.display.Markdown object>"
      ]
     },
     "metadata": {},
     "output_type": "display_data"
    },
    {
     "data": {
      "text/markdown": [
       "```python\n",
       "primes = []\n",
       "num = 3\n",
       "while len(primes) < 14:\n",
       "    is_prime = True\n",
       "    for i in range(2, int(num**0.5) + 1):\n",
       "        if num % i == 0:\n",
       "            is_prime = False\n",
       "            break\n",
       "    if is_prime:\n",
       "        primes.append(num)\n",
       "    num += 2  # Check only odd numbers\n",
       "\n",
       "print(f'{primes=}')\n",
       "\n",
       "sum_of_primes = sum(primes)\n",
       "print(f'{sum_of_primes=}')\n",
       "\n",
       "```"
      ],
      "text/plain": [
       "<IPython.core.display.Markdown object>"
      ]
     },
     "metadata": {},
     "output_type": "display_data"
    },
    {
     "data": {
      "text/markdown": [
       "```\n",
       "primes=[3, 5, 7, 11, 13, 17, 19, 23, 29, 31, 37, 41, 43, 47]\n",
       "sum_of_primes=326\n",
       "\n",
       "```"
      ],
      "text/plain": [
       "<IPython.core.display.Markdown object>"
      ]
     },
     "metadata": {},
     "output_type": "display_data"
    },
    {
     "data": {
      "text/markdown": [
       "The first 14 odd prime numbers are 3, 5, 7, 11, 13, 17, 19, 23, 29, 31, 37, 41, 43, and 47. Their sum is 326.\n"
      ],
      "text/plain": [
       "<IPython.core.display.Markdown object>"
      ]
     },
     "metadata": {},
     "output_type": "display_data"
    }
   ],
   "source": [
    "for part in response.candidates[0].content.parts:\n",
    "    if part.text:\n",
    "        display(Markdown(part.text))\n",
    "    elif part.executable_code:\n",
    "        display(Markdown(f'```python\\n{part.executable_code.code}\\n```'))\n",
    "    elif part.code_execution_result:\n",
    "        if part.code_execution_result.outcome != 'OUTCOME_OK':\n",
    "            display(Markdown(f'## Status {part.code_execution_result.outcome}'))\n",
    "\n",
    "        display(Markdown(f'```\\n{part.code_execution_result.output}\\n```'))"
   ]
  },
  {
   "cell_type": "markdown",
   "id": "3419acc1",
   "metadata": {
    "id": "1gUX8QzCj4d5",
    "papermill": {
     "duration": 0.016751,
     "end_time": "2025-03-31T22:00:13.723248",
     "exception": false,
     "start_time": "2025-03-31T22:00:13.706497",
     "status": "completed"
    },
    "tags": []
   },
   "source": [
    "### Explaining code\n",
    "\n",
    "The Gemini family of models can explain code to you too. In this example, you pass a [bash script](https://github.com/magicmonty/bash-git-prompt) and ask some questions.\n",
    "\n",
    "<table align=left>\n",
    "  <td>\n",
    "    <a target=\"_blank\" href=\"https://aistudio.google.com/prompts/1N7LGzWzCYieyOf_7bAG4plrmkpDNmUyb\"><img src=\"https://ai.google.dev/site-assets/images/marketing/home/icon-ais.png\" style=\"height: 24px\" height=24/> Open in AI Studio</a>\n",
    "  </td>\n",
    "</table>"
   ]
  },
  {
   "cell_type": "code",
   "execution_count": 32,
   "id": "d6b76c0a",
   "metadata": {
    "execution": {
     "iopub.execute_input": "2025-03-31T22:00:13.757714Z",
     "iopub.status.busy": "2025-03-31T22:00:13.757257Z",
     "iopub.status.idle": "2025-03-31T22:00:16.021522Z",
     "shell.execute_reply": "2025-03-31T22:00:16.020204Z"
    },
    "id": "7_jPMMoxkIEb",
    "papermill": {
     "duration": 2.284434,
     "end_time": "2025-03-31T22:00:16.024047",
     "exception": false,
     "start_time": "2025-03-31T22:00:13.739613",
     "status": "completed"
    },
    "tags": []
   },
   "outputs": [
    {
     "data": {
      "text/markdown": [
       "This file is a shell script designed to enhance your command-line prompt with information about the Git repository you're currently working in.  It's often called `bash-git-prompt` or similar.\n",
       "\n",
       "Here's a breakdown:\n",
       "\n",
       "*   **What it does:**  The script modifies your terminal prompt to display helpful Git-related details.  This typically includes:\n",
       "    *   The current branch name.\n",
       "    *   The status of your working directory (e.g., whether there are staged, unstaged, or untracked files).\n",
       "    *   Information about the state of your branch relative to the remote repository (e.g., ahead, behind, diverged).\n",
       "    *   Clean/Dirty state.\n",
       "    *   The virtual environment being used.\n",
       "\n",
       "*   **Why use it:**\n",
       "    *   **Improved workflow:**  Quickly see the state of your Git repository without having to run `git status` repeatedly.\n",
       "    *   **Visual cues:**  Colors and symbols provide at-a-glance information, making it easier to track changes.\n",
       "    *   **Customization:** The script allows you to customize the appearance of the prompt (colors, symbols, information displayed) to suit your preferences.\n",
       "    *   **Virtual Environment Visibility:** It also nicely displays active python virtual envs.\n",
       "\n",
       "In essence, this script aims to make your interaction with Git repositories smoother and more informative directly from your command line.\n"
      ],
      "text/plain": [
       "<IPython.core.display.Markdown object>"
      ]
     },
     "execution_count": 32,
     "metadata": {},
     "output_type": "execute_result"
    }
   ],
   "source": [
    "file_contents = !curl https://raw.githubusercontent.com/magicmonty/bash-git-prompt/refs/heads/master/gitprompt.sh\n",
    "\n",
    "explain_prompt = f\"\"\"\n",
    "Please explain what this file does at a very high level. What is it, and why would I use it?\n",
    "\n",
    "```\n",
    "{file_contents}\n",
    "```\n",
    "\"\"\"\n",
    "\n",
    "response = client.models.generate_content(\n",
    "    model='gemini-2.0-flash',\n",
    "    contents=explain_prompt)\n",
    "\n",
    "Markdown(response.text)"
   ]
  },
  {
   "cell_type": "markdown",
   "id": "50adfb53",
   "metadata": {
    "id": "2a8266d97ce5",
    "papermill": {
     "duration": 0.015954,
     "end_time": "2025-03-31T22:00:16.056191",
     "exception": false,
     "start_time": "2025-03-31T22:00:16.040237",
     "status": "completed"
    },
    "tags": []
   },
   "source": [
    "## Learn more\n",
    "\n",
    "To learn more about prompting in depth:\n",
    "\n",
    "* Check out the whitepaper issued with today's content,\n",
    "* Try out the apps listed at the top of this notebook ([TextFX](https://textfx.withgoogle.com/), [SQL Talk](https://sql-talk-r5gdynozbq-uc.a.run.app/) and [NotebookLM](https://notebooklm.google/)),\n",
    "* Read the [Introduction to Prompting](https://ai.google.dev/gemini-api/docs/prompting-intro) from the Gemini API docs,\n",
    "* Explore the Gemini API's [prompt gallery](https://ai.google.dev/gemini-api/prompts) and try them out in AI Studio,\n",
    "* Check out the Gemini API cookbook for [inspirational examples](https://github.com/google-gemini/cookbook/blob/main/examples/) and [educational quickstarts](https://github.com/google-gemini/cookbook/blob/main/quickstarts/).\n",
    "\n",
    "Be sure to check out the codelabs on day 3 too, where you will explore some more advanced prompting with code execution.\n",
    "\n",
    "And please share anything exciting you have tried in the Discord!\n",
    "\n",
    "*- [Mark McD](https://linktr.ee/markmcd)*"
   ]
  }
 ],
 "metadata": {
  "colab": {
   "name": "day-1-prompting.ipynb",
   "toc_visible": true
  },
  "kaggle": {
   "accelerator": "none",
   "dataSources": [],
   "dockerImageVersionId": 30786,
   "isGpuEnabled": false,
   "isInternetEnabled": true,
   "language": "python",
   "sourceType": "notebook"
  },
  "kernelspec": {
   "display_name": "Python 3",
   "language": "python",
   "name": "python3"
  },
  "language_info": {
   "codemirror_mode": {
    "name": "ipython",
    "version": 3
   },
   "file_extension": ".py",
   "mimetype": "text/x-python",
   "name": "python",
   "nbconvert_exporter": "python",
   "pygments_lexer": "ipython3",
   "version": "3.10.14"
  },
  "papermill": {
   "default_parameters": {},
   "duration": 292.283094,
   "end_time": "2025-03-31T22:00:17.097712",
   "environment_variables": {},
   "exception": null,
   "input_path": "__notebook__.ipynb",
   "output_path": "__notebook__.ipynb",
   "parameters": {},
   "start_time": "2025-03-31T21:55:24.814618",
   "version": "2.6.0"
  }
 },
 "nbformat": 4,
 "nbformat_minor": 5
}
